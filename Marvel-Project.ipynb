{
 "cells": [
  {
   "cell_type": "markdown",
   "metadata": {
    "ExecuteTime": {
     "end_time": "2020-03-03T06:20:27.328242Z",
     "start_time": "2020-03-03T06:20:27.305186Z"
    },
    "slideshow": {
     "slide_type": "slide"
    }
   },
   "source": [
    "<img src=\"img/banner.jpg\">"
   ]
  },
  {
   "cell_type": "markdown",
   "metadata": {},
   "source": [
    "# Marvel's Superheroes"
   ]
  },
  {
   "cell_type": "markdown",
   "metadata": {},
   "source": [
    "Mar Lizana\n",
    "<br>\n",
    "Data Analytics PT 2020\n",
    "<br>\n",
    "Ironhack"
   ]
  },
  {
   "cell_type": "markdown",
   "metadata": {
    "heading_collapsed": true
   },
   "source": [
    "## Introducción"
   ]
  },
  {
   "cell_type": "markdown",
   "metadata": {
    "hidden": true,
    "slideshow": {
     "slide_type": "slide"
    }
   },
   "source": [
    "### Motivación"
   ]
  },
  {
   "cell_type": "markdown",
   "metadata": {
    "hidden": true,
    "slideshow": {
     "slide_type": "slide"
    }
   },
   "source": [
    "El principal objetivo de la selección de este dataset es observar los subconjuntos que se forman dentro de los diferentes personajes de Marvel en los cómics.\n",
    "El multiverso Marvel hace referencia a la existencia de varios universos con sus propias características en una misma línea temporal."
   ]
  },
  {
   "cell_type": "markdown",
   "metadata": {
    "hidden": true,
    "slideshow": {
     "slide_type": "slide"
    }
   },
   "source": [
    "### Dataset"
   ]
  },
  {
   "cell_type": "markdown",
   "metadata": {},
   "source": [
    "## Preparar los datasets, examinar y analizar"
   ]
  },
  {
   "cell_type": "markdown",
   "metadata": {},
   "source": [
    "### Librerías"
   ]
  },
  {
   "cell_type": "code",
   "execution_count": 1,
   "metadata": {
    "ExecuteTime": {
     "end_time": "2020-03-14T07:43:30.937244Z",
     "start_time": "2020-03-14T07:43:16.775601Z"
    }
   },
   "outputs": [],
   "source": [
    "import numpy as np\n",
    "import pandas as pd\n",
    "import random\n",
    "import re\n",
    "from math import pi\n",
    "from sklearn.preprocessing import MinMaxScaler\n",
    "\n",
    "\n",
    "#Visualización\n",
    "import matplotlib.pyplot as plt\n",
    "import seaborn as sns\n",
    "import plotly\n",
    "import cufflinks as cf\n",
    "from plotly.offline import download_plotlyjs, init_notebook_mode, plot, iplot\n",
    "\n",
    "#Grafo\n",
    "import networkx as nx \n",
    "import plotly.graph_objects as go\n",
    "import plotly.express as px\n",
    "import itertools\n",
    "\n",
    "\n",
    "#Interactivo\n",
    "import altair\n",
    "import ipywidgets as widgets\n",
    "from IPython.display import display\n",
    "from ipywidgets import interact, interact_manual\n",
    "\n",
    "#De lista de tuplas a dict\n",
    "from collections import defaultdict"
   ]
  },
  {
   "cell_type": "code",
   "execution_count": 2,
   "metadata": {
    "ExecuteTime": {
     "end_time": "2020-03-14T07:43:31.197917Z",
     "start_time": "2020-03-14T07:43:31.185889Z"
    }
   },
   "outputs": [],
   "source": [
    "plt.rcParams[\"figure.figsize\"] = (15,10)"
   ]
  },
  {
   "cell_type": "markdown",
   "metadata": {},
   "source": [
    "### Importamos los datasets:"
   ]
  },
  {
   "cell_type": "code",
   "execution_count": 3,
   "metadata": {
    "ExecuteTime": {
     "end_time": "2020-03-14T07:43:31.714558Z",
     "start_time": "2020-03-14T07:43:31.336337Z"
    }
   },
   "outputs": [],
   "source": [
    "#Usaremos este dataset para el apartado de análisis estadístico y visualización.\n",
    "character_stats = pd.read_csv(\"marvel-superheroes/charcters_stats.csv\")\n",
    "character_info = pd.read_csv(\"marvel-superheroes/marvel_characters_info.csv\")\n",
    "\n",
    "#Este segundo dataset será contruido para poder elaborar el grafo final.\n",
    "marvel_charanther = pd.read_csv(\"marvel-superheroes/characters.csv\")\n",
    "marvel_comics = pd.read_csv(\"marvel-superheroes/charactersToComics.csv\")\n",
    "comics = pd.read_csv(\"marvel-superheroes/comics.csv\")"
   ]
  },
  {
   "cell_type": "markdown",
   "metadata": {},
   "source": [
    "Los unimos para poder trabajar con toda la información:"
   ]
  },
  {
   "cell_type": "code",
   "execution_count": 4,
   "metadata": {
    "ExecuteTime": {
     "end_time": "2020-03-14T07:43:32.754098Z",
     "start_time": "2020-03-14T07:43:32.651997Z"
    }
   },
   "outputs": [],
   "source": [
    "marvel_graph = pd.merge(marvel_charanther, marvel_comics, on='characterID')\n",
    "marvel_graph = pd.merge(marvel_graph, comics, on = \"comicID\")\n",
    "\n",
    "\n",
    "marvel_stats = pd.merge(character_stats,character_info, on= \"Name\")"
   ]
  },
  {
   "cell_type": "markdown",
   "metadata": {
    "ExecuteTime": {
     "end_time": "2020-03-09T06:50:48.125269Z",
     "start_time": "2020-03-09T06:50:48.119311Z"
    }
   },
   "source": [
    "### Marvel Stats"
   ]
  },
  {
   "cell_type": "code",
   "execution_count": 5,
   "metadata": {
    "ExecuteTime": {
     "end_time": "2020-03-14T07:43:33.555783Z",
     "start_time": "2020-03-14T07:43:33.516448Z"
    },
    "slideshow": {
     "slide_type": "slide"
    }
   },
   "outputs": [
    {
     "data": {
      "text/html": [
       "<div>\n",
       "<style scoped>\n",
       "    .dataframe tbody tr th:only-of-type {\n",
       "        vertical-align: middle;\n",
       "    }\n",
       "\n",
       "    .dataframe tbody tr th {\n",
       "        vertical-align: top;\n",
       "    }\n",
       "\n",
       "    .dataframe thead th {\n",
       "        text-align: right;\n",
       "    }\n",
       "</style>\n",
       "<table border=\"1\" class=\"dataframe\">\n",
       "  <thead>\n",
       "    <tr style=\"text-align: right;\">\n",
       "      <th></th>\n",
       "      <th>Name</th>\n",
       "      <th>Alignment_x</th>\n",
       "      <th>Intelligence</th>\n",
       "      <th>Strength</th>\n",
       "      <th>Speed</th>\n",
       "      <th>Durability</th>\n",
       "      <th>Power</th>\n",
       "      <th>Combat</th>\n",
       "      <th>Total</th>\n",
       "      <th>ID</th>\n",
       "      <th>Alignment_y</th>\n",
       "      <th>Gender</th>\n",
       "      <th>EyeColor</th>\n",
       "      <th>Race</th>\n",
       "      <th>HairColor</th>\n",
       "      <th>Publisher</th>\n",
       "      <th>SkinColor</th>\n",
       "      <th>Height</th>\n",
       "      <th>Weight</th>\n",
       "    </tr>\n",
       "  </thead>\n",
       "  <tbody>\n",
       "    <tr>\n",
       "      <td>0</td>\n",
       "      <td>A-Bomb</td>\n",
       "      <td>good</td>\n",
       "      <td>38</td>\n",
       "      <td>100</td>\n",
       "      <td>17</td>\n",
       "      <td>80</td>\n",
       "      <td>17</td>\n",
       "      <td>64</td>\n",
       "      <td>316</td>\n",
       "      <td>0</td>\n",
       "      <td>good</td>\n",
       "      <td>Male</td>\n",
       "      <td>yellow</td>\n",
       "      <td>Human</td>\n",
       "      <td>No Hair</td>\n",
       "      <td>Marvel Comics</td>\n",
       "      <td>-</td>\n",
       "      <td>203.0</td>\n",
       "      <td>441.0</td>\n",
       "    </tr>\n",
       "    <tr>\n",
       "      <td>1</td>\n",
       "      <td>Abe Sapien</td>\n",
       "      <td>good</td>\n",
       "      <td>88</td>\n",
       "      <td>14</td>\n",
       "      <td>35</td>\n",
       "      <td>42</td>\n",
       "      <td>35</td>\n",
       "      <td>85</td>\n",
       "      <td>299</td>\n",
       "      <td>1</td>\n",
       "      <td>good</td>\n",
       "      <td>Male</td>\n",
       "      <td>blue</td>\n",
       "      <td>Icthyo Sapien</td>\n",
       "      <td>No Hair</td>\n",
       "      <td>Dark Horse Comics</td>\n",
       "      <td>blue</td>\n",
       "      <td>191.0</td>\n",
       "      <td>65.0</td>\n",
       "    </tr>\n",
       "    <tr>\n",
       "      <td>2</td>\n",
       "      <td>Abin Sur</td>\n",
       "      <td>good</td>\n",
       "      <td>50</td>\n",
       "      <td>90</td>\n",
       "      <td>53</td>\n",
       "      <td>64</td>\n",
       "      <td>84</td>\n",
       "      <td>65</td>\n",
       "      <td>406</td>\n",
       "      <td>2</td>\n",
       "      <td>good</td>\n",
       "      <td>Male</td>\n",
       "      <td>blue</td>\n",
       "      <td>Ungaran</td>\n",
       "      <td>No Hair</td>\n",
       "      <td>DC Comics</td>\n",
       "      <td>red</td>\n",
       "      <td>185.0</td>\n",
       "      <td>90.0</td>\n",
       "    </tr>\n",
       "    <tr>\n",
       "      <td>3</td>\n",
       "      <td>Abomination</td>\n",
       "      <td>bad</td>\n",
       "      <td>63</td>\n",
       "      <td>80</td>\n",
       "      <td>53</td>\n",
       "      <td>90</td>\n",
       "      <td>55</td>\n",
       "      <td>95</td>\n",
       "      <td>436</td>\n",
       "      <td>3</td>\n",
       "      <td>bad</td>\n",
       "      <td>Male</td>\n",
       "      <td>green</td>\n",
       "      <td>Human / Radiation</td>\n",
       "      <td>No Hair</td>\n",
       "      <td>Marvel Comics</td>\n",
       "      <td>-</td>\n",
       "      <td>203.0</td>\n",
       "      <td>441.0</td>\n",
       "    </tr>\n",
       "    <tr>\n",
       "      <td>4</td>\n",
       "      <td>Abraxas</td>\n",
       "      <td>bad</td>\n",
       "      <td>88</td>\n",
       "      <td>100</td>\n",
       "      <td>83</td>\n",
       "      <td>99</td>\n",
       "      <td>100</td>\n",
       "      <td>56</td>\n",
       "      <td>526</td>\n",
       "      <td>4</td>\n",
       "      <td>bad</td>\n",
       "      <td>Male</td>\n",
       "      <td>blue</td>\n",
       "      <td>Cosmic Entity</td>\n",
       "      <td>Black</td>\n",
       "      <td>Marvel Comics</td>\n",
       "      <td>-</td>\n",
       "      <td>-99.0</td>\n",
       "      <td>-99.0</td>\n",
       "    </tr>\n",
       "  </tbody>\n",
       "</table>\n",
       "</div>"
      ],
      "text/plain": [
       "          Name Alignment_x  Intelligence  Strength  Speed  Durability  Power  \\\n",
       "0       A-Bomb        good            38       100     17          80     17   \n",
       "1   Abe Sapien        good            88        14     35          42     35   \n",
       "2     Abin Sur        good            50        90     53          64     84   \n",
       "3  Abomination         bad            63        80     53          90     55   \n",
       "4      Abraxas         bad            88       100     83          99    100   \n",
       "\n",
       "   Combat  Total  ID Alignment_y Gender EyeColor               Race HairColor  \\\n",
       "0      64    316   0        good   Male   yellow              Human   No Hair   \n",
       "1      85    299   1        good   Male     blue      Icthyo Sapien   No Hair   \n",
       "2      65    406   2        good   Male     blue            Ungaran   No Hair   \n",
       "3      95    436   3         bad   Male    green  Human / Radiation   No Hair   \n",
       "4      56    526   4         bad   Male     blue      Cosmic Entity     Black   \n",
       "\n",
       "           Publisher SkinColor  Height  Weight  \n",
       "0      Marvel Comics         -   203.0   441.0  \n",
       "1  Dark Horse Comics      blue   191.0    65.0  \n",
       "2          DC Comics       red   185.0    90.0  \n",
       "3      Marvel Comics         -   203.0   441.0  \n",
       "4      Marvel Comics         -   -99.0   -99.0  "
      ]
     },
     "execution_count": 5,
     "metadata": {},
     "output_type": "execute_result"
    }
   ],
   "source": [
    "marvel_stats.head()"
   ]
  },
  {
   "cell_type": "code",
   "execution_count": 6,
   "metadata": {
    "ExecuteTime": {
     "end_time": "2020-03-14T07:43:34.392828Z",
     "start_time": "2020-03-14T07:43:34.383833Z"
    }
   },
   "outputs": [
    {
     "data": {
      "text/plain": [
       "(600, 19)"
      ]
     },
     "execution_count": 6,
     "metadata": {},
     "output_type": "execute_result"
    }
   ],
   "source": [
    "marvel_stats.shape"
   ]
  },
  {
   "cell_type": "markdown",
   "metadata": {},
   "source": [
    "Con esta información podemos concluir que nuestra base de datos contiene registros de un total de 600 superhéroes."
   ]
  },
  {
   "cell_type": "code",
   "execution_count": 7,
   "metadata": {
    "ExecuteTime": {
     "end_time": "2020-03-14T07:43:34.971768Z",
     "start_time": "2020-03-14T07:43:34.958539Z"
    }
   },
   "outputs": [
    {
     "data": {
      "text/plain": [
       "Name            0\n",
       "Alignment_x     3\n",
       "Intelligence    0\n",
       "Strength        0\n",
       "Speed           0\n",
       "Durability      0\n",
       "Power           0\n",
       "Combat          0\n",
       "Total           0\n",
       "ID              0\n",
       "Alignment_y     0\n",
       "Gender          0\n",
       "EyeColor        0\n",
       "Race            0\n",
       "HairColor       0\n",
       "Publisher       7\n",
       "SkinColor       0\n",
       "Height          0\n",
       "Weight          0\n",
       "dtype: int64"
      ]
     },
     "execution_count": 7,
     "metadata": {},
     "output_type": "execute_result"
    }
   ],
   "source": [
    "marvel_stats.isnull().sum()"
   ]
  },
  {
   "cell_type": "code",
   "execution_count": 8,
   "metadata": {
    "ExecuteTime": {
     "end_time": "2020-03-14T07:43:35.469048Z",
     "start_time": "2020-03-14T07:43:35.459205Z"
    }
   },
   "outputs": [
    {
     "data": {
      "text/plain": [
       "array(['Marvel Comics', 'Dark Horse Comics', 'DC Comics', 'NBC - Heroes',\n",
       "       'Wildstorm', 'Image Comics', nan, 'Icon Comics', 'SyFy',\n",
       "       'Hanna-Barbera', 'Team Epic TV', 'HarperCollins', 'ABC Studios',\n",
       "       'Universal Studios', 'Shueisha', 'Sony Pictures', 'Microsoft'],\n",
       "      dtype=object)"
      ]
     },
     "execution_count": 8,
     "metadata": {},
     "output_type": "execute_result"
    }
   ],
   "source": [
    "pd.unique(marvel_stats['Publisher'])"
   ]
  },
  {
   "cell_type": "markdown",
   "metadata": {},
   "source": [
    "Borro todos los héroes que no sean de Marvel"
   ]
  },
  {
   "cell_type": "code",
   "execution_count": 9,
   "metadata": {
    "ExecuteTime": {
     "end_time": "2020-03-14T07:43:36.103823Z",
     "start_time": "2020-03-14T07:43:36.087580Z"
    }
   },
   "outputs": [
    {
     "data": {
      "text/plain": [
       "(349, 19)"
      ]
     },
     "execution_count": 9,
     "metadata": {},
     "output_type": "execute_result"
    }
   ],
   "source": [
    "marvel_stats = marvel_stats.drop(marvel_stats[marvel_stats['Publisher']!='Marvel Comics'].index)\n",
    "marvel_stats.shape"
   ]
  },
  {
   "cell_type": "markdown",
   "metadata": {},
   "source": [
    "Y elimino los posibles duplicados por multiverso."
   ]
  },
  {
   "cell_type": "code",
   "execution_count": 10,
   "metadata": {
    "ExecuteTime": {
     "end_time": "2020-03-14T07:43:37.071681Z",
     "start_time": "2020-03-14T07:43:37.052894Z"
    }
   },
   "outputs": [
    {
     "data": {
      "text/plain": [
       "(338, 19)"
      ]
     },
     "execution_count": 10,
     "metadata": {},
     "output_type": "execute_result"
    }
   ],
   "source": [
    "marvel_stats= marvel_stats.drop_duplicates(['Name'], keep='first')\n",
    "marvel_stats.shape"
   ]
  },
  {
   "cell_type": "markdown",
   "metadata": {},
   "source": [
    "### Marvel Graph"
   ]
  },
  {
   "cell_type": "code",
   "execution_count": 11,
   "metadata": {
    "ExecuteTime": {
     "end_time": "2020-03-14T07:43:37.812565Z",
     "start_time": "2020-03-14T07:43:37.786946Z"
    },
    "slideshow": {
     "slide_type": "slide"
    }
   },
   "outputs": [
    {
     "data": {
      "text/html": [
       "<div>\n",
       "<style scoped>\n",
       "    .dataframe tbody tr th:only-of-type {\n",
       "        vertical-align: middle;\n",
       "    }\n",
       "\n",
       "    .dataframe tbody tr th {\n",
       "        vertical-align: top;\n",
       "    }\n",
       "\n",
       "    .dataframe thead th {\n",
       "        text-align: right;\n",
       "    }\n",
       "</style>\n",
       "<table border=\"1\" class=\"dataframe\">\n",
       "  <thead>\n",
       "    <tr style=\"text-align: right;\">\n",
       "      <th></th>\n",
       "      <th>characterID</th>\n",
       "      <th>name</th>\n",
       "      <th>comicID</th>\n",
       "      <th>title</th>\n",
       "      <th>issueNumber</th>\n",
       "      <th>description</th>\n",
       "    </tr>\n",
       "  </thead>\n",
       "  <tbody>\n",
       "    <tr>\n",
       "      <td>0</td>\n",
       "      <td>1009220</td>\n",
       "      <td>Captain America</td>\n",
       "      <td>16232</td>\n",
       "      <td>Cap Transport (2005) #12</td>\n",
       "      <td>12.0</td>\n",
       "      <td>NaN</td>\n",
       "    </tr>\n",
       "    <tr>\n",
       "      <td>1</td>\n",
       "      <td>1010740</td>\n",
       "      <td>Winter Soldier</td>\n",
       "      <td>16232</td>\n",
       "      <td>Cap Transport (2005) #12</td>\n",
       "      <td>12.0</td>\n",
       "      <td>NaN</td>\n",
       "    </tr>\n",
       "    <tr>\n",
       "      <td>2</td>\n",
       "      <td>1009220</td>\n",
       "      <td>Captain America</td>\n",
       "      <td>16248</td>\n",
       "      <td>Cap Transport (2005) #9</td>\n",
       "      <td>9.0</td>\n",
       "      <td>NaN</td>\n",
       "    </tr>\n",
       "    <tr>\n",
       "      <td>3</td>\n",
       "      <td>1009471</td>\n",
       "      <td>Nick Fury</td>\n",
       "      <td>16248</td>\n",
       "      <td>Cap Transport (2005) #9</td>\n",
       "      <td>9.0</td>\n",
       "      <td>NaN</td>\n",
       "    </tr>\n",
       "    <tr>\n",
       "      <td>4</td>\n",
       "      <td>1009552</td>\n",
       "      <td>S.H.I.E.L.D.</td>\n",
       "      <td>16248</td>\n",
       "      <td>Cap Transport (2005) #9</td>\n",
       "      <td>9.0</td>\n",
       "      <td>NaN</td>\n",
       "    </tr>\n",
       "  </tbody>\n",
       "</table>\n",
       "</div>"
      ],
      "text/plain": [
       "   characterID             name  comicID                     title  \\\n",
       "0      1009220  Captain America    16232  Cap Transport (2005) #12   \n",
       "1      1010740   Winter Soldier    16232  Cap Transport (2005) #12   \n",
       "2      1009220  Captain America    16248   Cap Transport (2005) #9   \n",
       "3      1009471        Nick Fury    16248   Cap Transport (2005) #9   \n",
       "4      1009552     S.H.I.E.L.D.    16248   Cap Transport (2005) #9   \n",
       "\n",
       "   issueNumber description  \n",
       "0         12.0         NaN  \n",
       "1         12.0         NaN  \n",
       "2          9.0         NaN  \n",
       "3          9.0         NaN  \n",
       "4          9.0         NaN  "
      ]
     },
     "execution_count": 11,
     "metadata": {},
     "output_type": "execute_result"
    }
   ],
   "source": [
    "marvel_graph.head()"
   ]
  },
  {
   "cell_type": "code",
   "execution_count": 12,
   "metadata": {
    "ExecuteTime": {
     "end_time": "2020-03-14T07:43:38.520231Z",
     "start_time": "2020-03-14T07:43:38.511462Z"
    }
   },
   "outputs": [
    {
     "data": {
      "text/plain": [
       "(82185, 6)"
      ]
     },
     "execution_count": 12,
     "metadata": {},
     "output_type": "execute_result"
    }
   ],
   "source": [
    "marvel_graph.shape"
   ]
  },
  {
   "cell_type": "code",
   "execution_count": 13,
   "metadata": {
    "ExecuteTime": {
     "end_time": "2020-03-14T07:43:39.111557Z",
     "start_time": "2020-03-14T07:43:39.044021Z"
    }
   },
   "outputs": [
    {
     "data": {
      "text/plain": [
       "characterID        0\n",
       "name               0\n",
       "comicID            0\n",
       "title              0\n",
       "issueNumber        0\n",
       "description    26479\n",
       "dtype: int64"
      ]
     },
     "execution_count": 13,
     "metadata": {},
     "output_type": "execute_result"
    }
   ],
   "source": [
    "marvel_graph.isnull().sum()"
   ]
  },
  {
   "cell_type": "markdown",
   "metadata": {},
   "source": [
    "Extraer el año de la columna título puede resultar interesante para la posterior visualización."
   ]
  },
  {
   "cell_type": "code",
   "execution_count": 14,
   "metadata": {
    "ExecuteTime": {
     "end_time": "2020-03-14T07:43:39.876535Z",
     "start_time": "2020-03-14T07:43:39.638564Z"
    }
   },
   "outputs": [],
   "source": [
    "years = [\",\".join(re.findall(\"\\d{4}\", i)) for i in marvel_graph['title']]\n",
    "marvel_graph['Year']=years"
   ]
  },
  {
   "cell_type": "markdown",
   "metadata": {},
   "source": [
    "Hay años futuros... y años previos a la creación de los comics... Intentaremos usar esta información igualmente por probar."
   ]
  },
  {
   "cell_type": "markdown",
   "metadata": {},
   "source": [
    "## Análisis estadístico y visualización"
   ]
  },
  {
   "cell_type": "markdown",
   "metadata": {},
   "source": [
    "### Correlación entre variables"
   ]
  },
  {
   "cell_type": "markdown",
   "metadata": {},
   "source": [
    "Haremos una primera visualización de la información con un gráfico interactivo de correlación entre habilidades de superhéroes:"
   ]
  },
  {
   "cell_type": "code",
   "execution_count": 15,
   "metadata": {
    "ExecuteTime": {
     "end_time": "2020-03-14T07:43:41.794959Z",
     "start_time": "2020-03-14T07:43:40.444942Z"
    },
    "code_folding": [
     0,
     2
    ],
    "slideshow": {
     "slide_type": "slide"
    }
   },
   "outputs": [
    {
     "data": {
      "application/vnd.jupyter.widget-view+json": {
       "model_id": "9272e6802c5043e1a4723985e7f38405",
       "version_major": 2,
       "version_minor": 0
      },
      "text/plain": [
       "interactive(children=(Dropdown(description='x', options=('Intelligence', 'Strength', 'Speed', 'Durability', 'P…"
      ]
     },
     "metadata": {},
     "output_type": "display_data"
    }
   ],
   "source": [
    "def make_plot(x, y): \n",
    "    sns.jointplot(x=x,y=y, data=marvel_stats,kind=\"reg\", color = \"r\")\n",
    "marvel_num_col=['Intelligence','Strength','Speed','Durability','Power','Combat',\n",
    "               'Total','Height','Weight']\n",
    "c = interact(make_plot, x = marvel_num_col, y = marvel_num_col)"
   ]
  },
  {
   "cell_type": "markdown",
   "metadata": {},
   "source": [
    "### SpiderGraph por súper héroe"
   ]
  },
  {
   "cell_type": "markdown",
   "metadata": {},
   "source": [
    "Necesitamos estandarizar los parámetros dentro de un rango determinado para que los que sean más altos no predominen sobre el resto."
   ]
  },
  {
   "cell_type": "code",
   "execution_count": 16,
   "metadata": {
    "ExecuteTime": {
     "end_time": "2020-03-14T07:43:43.217077Z",
     "start_time": "2020-03-14T07:43:43.200801Z"
    },
    "code_folding": [
     0,
     4
    ]
   },
   "outputs": [],
   "source": [
    "#Estandarización de valores:\n",
    "df = marvel_stats[['Intelligence','Strength','Speed','Durability','Power','Combat','Height','Weight']]\n",
    "scaler = MinMaxScaler()\n",
    "scaled_df = scaler.fit_transform(df)\n",
    "scaled_df = pd.DataFrame(scaled_df, columns=['Intelligence','Strength','Speed','Durability','Power','Combat',\n",
    "               'Height','Weight'])"
   ]
  },
  {
   "cell_type": "code",
   "execution_count": 17,
   "metadata": {
    "ExecuteTime": {
     "end_time": "2020-03-14T07:43:44.064093Z",
     "start_time": "2020-03-14T07:43:44.058359Z"
    }
   },
   "outputs": [],
   "source": [
    "scaled_df['Name'] = [name for name in marvel_stats['Name']]"
   ]
  },
  {
   "cell_type": "code",
   "execution_count": 18,
   "metadata": {
    "ExecuteTime": {
     "end_time": "2020-03-14T07:43:44.974236Z",
     "start_time": "2020-03-14T07:43:44.964056Z"
    },
    "code_folding": [
     0
    ],
    "slideshow": {
     "slide_type": "slide"
    }
   },
   "outputs": [],
   "source": [
    "#Pasamos los nombres a índice para poder realizar la búsqueda:\n",
    "scaled_df = scaled_df.set_index(scaled_df['Name'])"
   ]
  },
  {
   "cell_type": "code",
   "execution_count": 19,
   "metadata": {
    "ExecuteTime": {
     "end_time": "2020-03-14T07:43:45.902994Z",
     "start_time": "2020-03-14T07:43:45.816528Z"
    },
    "code_folding": [
     2
    ],
    "slideshow": {
     "slide_type": "slide"
    }
   },
   "outputs": [
    {
     "data": {
      "application/vnd.jupyter.widget-view+json": {
       "model_id": "1a1946b7a3f54483a38d6ef137138fb6",
       "version_major": 2,
       "version_minor": 0
      },
      "text/plain": [
       "interactive(children=(Text(value='', description='Heroe1'), Output()), _dom_classes=('widget-interact',))"
      ]
     },
     "metadata": {},
     "output_type": "display_data"
    }
   ],
   "source": [
    "@interact(Heroe1='')\n",
    "\n",
    "def spiderplot(Heroe1):\n",
    "    \n",
    "    try:\n",
    "        categories=list(scaled_df)[:-1]\n",
    "        N = len(categories)\n",
    "\n",
    "        values=scaled_df.loc[Heroe1].drop('Name').values.flatten().tolist()\n",
    "\n",
    "        values += values[:1]\n",
    "\n",
    "        # What will be the angle of each axis in the plot? (we divide the plot / number of variable)\n",
    "        angles = [n / float(N) * 2 * pi for n in range(N)]\n",
    "        angles += angles[:1]\n",
    "\n",
    "        # Initialise the spider plot\n",
    "        ax = plt.subplot(111, polar=True)\n",
    "        ax.set_title(Heroe1)\n",
    "\n",
    "        # Draw one axe per variable + add labels labels yet\n",
    "        plt.xticks(angles[:-1], categories, color='black', size=8)\n",
    "\n",
    "        # Plot data\n",
    "        ax.plot(angles, values, color = \"red\", linewidth=1, linestyle='solid')\n",
    "\n",
    "        # Fill area\n",
    "        ax.fill(angles, values, 'r', alpha=0.1)\n",
    "    \n",
    "    except KeyError:\n",
    "        print(\"Esperando un nombre...\")\n"
   ]
  },
  {
   "cell_type": "markdown",
   "metadata": {},
   "source": [
    "### Cajas y bigotes por Género y Alignment"
   ]
  },
  {
   "cell_type": "code",
   "execution_count": 20,
   "metadata": {
    "ExecuteTime": {
     "end_time": "2020-03-14T07:45:40.484272Z",
     "start_time": "2020-03-14T07:45:39.861196Z"
    },
    "slideshow": {
     "slide_type": "slide"
    }
   },
   "outputs": [
    {
     "data": {
      "application/vnd.jupyter.widget-view+json": {
       "model_id": "5f19da890ad344c59c7d28f356603bce",
       "version_major": 2,
       "version_minor": 0
      },
      "text/plain": [
       "interactive(children=(Dropdown(description='Hability', options=('Intelligence', 'Strength', 'Speed', 'Durabili…"
      ]
     },
     "metadata": {},
     "output_type": "display_data"
    }
   ],
   "source": [
    "@interact\n",
    "def eda(Hability = ['Intelligence','Strength','Speed','Durability','Power','Combat']):\n",
    "    sns.catplot(x='Alignment_x', y=Hability, data=marvel_stats, hue='Gender',palette=\"Reds\", kind=\"box\")"
   ]
  },
  {
   "cell_type": "markdown",
   "metadata": {},
   "source": [
    "## Grafo"
   ]
  },
  {
   "cell_type": "markdown",
   "metadata": {
    "ExecuteTime": {
     "end_time": "2020-03-07T11:50:36.500335Z",
     "start_time": "2020-03-07T11:50:36.489137Z"
    }
   },
   "source": [
    "### Observación"
   ]
  },
  {
   "cell_type": "markdown",
   "metadata": {},
   "source": [
    "Hacemos una primera observación de como queda el dataset con el que trabajaremos."
   ]
  },
  {
   "cell_type": "code",
   "execution_count": 21,
   "metadata": {
    "ExecuteTime": {
     "end_time": "2020-03-14T07:46:26.116924Z",
     "start_time": "2020-03-14T07:46:26.097201Z"
    }
   },
   "outputs": [
    {
     "data": {
      "text/html": [
       "<div>\n",
       "<style scoped>\n",
       "    .dataframe tbody tr th:only-of-type {\n",
       "        vertical-align: middle;\n",
       "    }\n",
       "\n",
       "    .dataframe tbody tr th {\n",
       "        vertical-align: top;\n",
       "    }\n",
       "\n",
       "    .dataframe thead th {\n",
       "        text-align: right;\n",
       "    }\n",
       "</style>\n",
       "<table border=\"1\" class=\"dataframe\">\n",
       "  <thead>\n",
       "    <tr style=\"text-align: right;\">\n",
       "      <th></th>\n",
       "      <th>characterID</th>\n",
       "      <th>name</th>\n",
       "      <th>comicID</th>\n",
       "      <th>title</th>\n",
       "      <th>issueNumber</th>\n",
       "      <th>description</th>\n",
       "      <th>Year</th>\n",
       "    </tr>\n",
       "  </thead>\n",
       "  <tbody>\n",
       "    <tr>\n",
       "      <td>0</td>\n",
       "      <td>1009220</td>\n",
       "      <td>Captain America</td>\n",
       "      <td>16232</td>\n",
       "      <td>Cap Transport (2005) #12</td>\n",
       "      <td>12.0</td>\n",
       "      <td>NaN</td>\n",
       "      <td>2005</td>\n",
       "    </tr>\n",
       "    <tr>\n",
       "      <td>1</td>\n",
       "      <td>1010740</td>\n",
       "      <td>Winter Soldier</td>\n",
       "      <td>16232</td>\n",
       "      <td>Cap Transport (2005) #12</td>\n",
       "      <td>12.0</td>\n",
       "      <td>NaN</td>\n",
       "      <td>2005</td>\n",
       "    </tr>\n",
       "    <tr>\n",
       "      <td>2</td>\n",
       "      <td>1009220</td>\n",
       "      <td>Captain America</td>\n",
       "      <td>16248</td>\n",
       "      <td>Cap Transport (2005) #9</td>\n",
       "      <td>9.0</td>\n",
       "      <td>NaN</td>\n",
       "      <td>2005</td>\n",
       "    </tr>\n",
       "    <tr>\n",
       "      <td>3</td>\n",
       "      <td>1009471</td>\n",
       "      <td>Nick Fury</td>\n",
       "      <td>16248</td>\n",
       "      <td>Cap Transport (2005) #9</td>\n",
       "      <td>9.0</td>\n",
       "      <td>NaN</td>\n",
       "      <td>2005</td>\n",
       "    </tr>\n",
       "    <tr>\n",
       "      <td>4</td>\n",
       "      <td>1009552</td>\n",
       "      <td>S.H.I.E.L.D.</td>\n",
       "      <td>16248</td>\n",
       "      <td>Cap Transport (2005) #9</td>\n",
       "      <td>9.0</td>\n",
       "      <td>NaN</td>\n",
       "      <td>2005</td>\n",
       "    </tr>\n",
       "  </tbody>\n",
       "</table>\n",
       "</div>"
      ],
      "text/plain": [
       "   characterID             name  comicID                     title  \\\n",
       "0      1009220  Captain America    16232  Cap Transport (2005) #12   \n",
       "1      1010740   Winter Soldier    16232  Cap Transport (2005) #12   \n",
       "2      1009220  Captain America    16248   Cap Transport (2005) #9   \n",
       "3      1009471        Nick Fury    16248   Cap Transport (2005) #9   \n",
       "4      1009552     S.H.I.E.L.D.    16248   Cap Transport (2005) #9   \n",
       "\n",
       "   issueNumber description  Year  \n",
       "0         12.0         NaN  2005  \n",
       "1         12.0         NaN  2005  \n",
       "2          9.0         NaN  2005  \n",
       "3          9.0         NaN  2005  \n",
       "4          9.0         NaN  2005  "
      ]
     },
     "execution_count": 21,
     "metadata": {},
     "output_type": "execute_result"
    }
   ],
   "source": [
    "marvel_graph.head()"
   ]
  },
  {
   "cell_type": "code",
   "execution_count": 22,
   "metadata": {
    "ExecuteTime": {
     "end_time": "2020-03-14T07:46:27.031362Z",
     "start_time": "2020-03-14T07:46:27.004191Z"
    }
   },
   "outputs": [
    {
     "data": {
      "text/plain": [
       "Spider-Man         3483\n",
       "X-Men              3297\n",
       "Iron Man           2620\n",
       "Wolverine          2399\n",
       "Captain America    2240\n",
       "                   ... \n",
       "Talos                 1\n",
       "Preak                 1\n",
       "Nakia (Nakia)         1\n",
       "Red Shift             1\n",
       "Stephen Strange       1\n",
       "Name: name, Length: 1169, dtype: int64"
      ]
     },
     "execution_count": 22,
     "metadata": {},
     "output_type": "execute_result"
    }
   ],
   "source": [
    "marvel_graph['name'].value_counts()"
   ]
  },
  {
   "cell_type": "markdown",
   "metadata": {},
   "source": [
    "Gracias a las función <CODE>pivot_table</CODE> podemos empezar a hacernos una idea real de los personajes que puede haber por comic."
   ]
  },
  {
   "cell_type": "code",
   "execution_count": 23,
   "metadata": {
    "ExecuteTime": {
     "end_time": "2020-03-14T07:46:28.068302Z",
     "start_time": "2020-03-14T07:46:27.904155Z"
    }
   },
   "outputs": [
    {
     "data": {
      "text/html": [
       "<div>\n",
       "<style scoped>\n",
       "    .dataframe tbody tr th:only-of-type {\n",
       "        vertical-align: middle;\n",
       "    }\n",
       "\n",
       "    .dataframe tbody tr th {\n",
       "        vertical-align: top;\n",
       "    }\n",
       "\n",
       "    .dataframe thead th {\n",
       "        text-align: right;\n",
       "    }\n",
       "</style>\n",
       "<table border=\"1\" class=\"dataframe\">\n",
       "  <thead>\n",
       "    <tr style=\"text-align: right;\">\n",
       "      <th></th>\n",
       "      <th></th>\n",
       "      <th>characterID</th>\n",
       "      <th>issueNumber</th>\n",
       "    </tr>\n",
       "    <tr>\n",
       "      <th>comicID</th>\n",
       "      <th>name</th>\n",
       "      <th></th>\n",
       "      <th></th>\n",
       "    </tr>\n",
       "  </thead>\n",
       "  <tbody>\n",
       "    <tr>\n",
       "      <td rowspan=\"5\" valign=\"top\">2</td>\n",
       "      <td>Captain America</td>\n",
       "      <td>1009220.0</td>\n",
       "      <td>6.0</td>\n",
       "    </tr>\n",
       "    <tr>\n",
       "      <td>Danny Rand</td>\n",
       "      <td>1010776.0</td>\n",
       "      <td>6.0</td>\n",
       "    </tr>\n",
       "    <tr>\n",
       "      <td>Jessica Jones</td>\n",
       "      <td>1009378.0</td>\n",
       "      <td>6.0</td>\n",
       "    </tr>\n",
       "    <tr>\n",
       "      <td>Logan</td>\n",
       "      <td>1010363.0</td>\n",
       "      <td>6.0</td>\n",
       "    </tr>\n",
       "    <tr>\n",
       "      <td>Luke Cage</td>\n",
       "      <td>1009215.0</td>\n",
       "      <td>6.0</td>\n",
       "    </tr>\n",
       "  </tbody>\n",
       "</table>\n",
       "</div>"
      ],
      "text/plain": [
       "                         characterID  issueNumber\n",
       "comicID name                                     \n",
       "2       Captain America    1009220.0          6.0\n",
       "        Danny Rand         1010776.0          6.0\n",
       "        Jessica Jones      1009378.0          6.0\n",
       "        Logan              1010363.0          6.0\n",
       "        Luke Cage          1009215.0          6.0"
      ]
     },
     "execution_count": 23,
     "metadata": {},
     "output_type": "execute_result"
    }
   ],
   "source": [
    "comicID_name=pd.DataFrame(marvel_graph.pivot_table(index = [\"comicID\", \"name\"]))\n",
    "#Hago un head para evitaros el scrolldown...pero creedme que se ve.\n",
    "comicID_name.head()"
   ]
  },
  {
   "cell_type": "markdown",
   "metadata": {
    "ExecuteTime": {
     "end_time": "2020-03-07T11:52:11.525912Z",
     "start_time": "2020-03-07T11:52:11.521639Z"
    }
   },
   "source": [
    "### Obtención de la estructura de datos necesarea."
   ]
  },
  {
   "cell_type": "markdown",
   "metadata": {},
   "source": [
    "Y ahora es cuando empieza lo divertido:\n",
    "1. Creamos tuplas con la relación <CODE>'comicID'</CODE>, <CODE>'name'</CODE>.\n",
    "2. Con estas tuplas y la función <CODE>setdefault</CODE> pasada a los elementos de la lista de tuplas conseguimos un diccionario donde las llaves son los <CODE>'comicID'</CODE> y los valores los distintos <CODE>'name'</CODE> relacionados.\n",
    "3. Aplicaremos la función <CODE>combinations</CODE> para obtener todas las permutaciones que hay dentro de cada comic."
   ]
  },
  {
   "cell_type": "code",
   "execution_count": 24,
   "metadata": {
    "ExecuteTime": {
     "end_time": "2020-03-14T07:46:32.493368Z",
     "start_time": "2020-03-14T07:46:29.377241Z"
    }
   },
   "outputs": [],
   "source": [
    "#Con esto obtenemos la lista de tuplas\n",
    "lst = []\n",
    "for i in range(0, len(marvel_graph[\"comicID\"])):\n",
    "    d = (marvel_graph[\"comicID\"][i],marvel_graph[\"name\"][i])\n",
    "    lst.append(d)"
   ]
  },
  {
   "cell_type": "code",
   "execution_count": 25,
   "metadata": {
    "ExecuteTime": {
     "end_time": "2020-03-14T07:46:34.176174Z",
     "start_time": "2020-03-14T07:46:34.104102Z"
    }
   },
   "outputs": [],
   "source": [
    "#Pasamos a diccionario\n",
    "d = {}\n",
    "for k, v in lst:\n",
    "    d.setdefault(k, []).append(v)"
   ]
  },
  {
   "cell_type": "code",
   "execution_count": 26,
   "metadata": {
    "ExecuteTime": {
     "end_time": "2020-03-14T07:46:36.012426Z",
     "start_time": "2020-03-14T07:46:36.001474Z"
    }
   },
   "outputs": [],
   "source": [
    "#Nos quedamos solo con los valores del diccionario porque no nos interesa que aparezcan las llaves.\n",
    "comic_persons = d.values()"
   ]
  },
  {
   "cell_type": "code",
   "execution_count": 27,
   "metadata": {
    "ExecuteTime": {
     "end_time": "2020-03-14T07:46:38.114575Z",
     "start_time": "2020-03-14T07:46:37.979922Z"
    }
   },
   "outputs": [],
   "source": [
    "#Creamos las permutaciones\n",
    "lst = []\n",
    "for i in comic_persons:\n",
    "    lst.append(list(itertools.combinations(i, 2)))"
   ]
  },
  {
   "cell_type": "code",
   "execution_count": 28,
   "metadata": {
    "ExecuteTime": {
     "end_time": "2020-03-14T07:46:41.571602Z",
     "start_time": "2020-03-14T07:46:41.481531Z"
    }
   },
   "outputs": [],
   "source": [
    "#Por último sacamos las tuplas de las listas para obtener solo una lista de tuplas y no una lista\n",
    "#de listas de tuplas.\n",
    "total_relationships=[]\n",
    "for i in lst:\n",
    "    for e in i:\n",
    "        total_relationships.append(e)"
   ]
  },
  {
   "cell_type": "markdown",
   "metadata": {},
   "source": [
    "### Generando el grafo"
   ]
  },
  {
   "cell_type": "markdown",
   "metadata": {},
   "source": [
    "Con este primer grafo vemos todas las relaciones de un superheroe"
   ]
  },
  {
   "cell_type": "code",
   "execution_count": 29,
   "metadata": {
    "ExecuteTime": {
     "end_time": "2020-03-14T07:46:47.327303Z",
     "start_time": "2020-03-14T07:46:46.924637Z"
    },
    "slideshow": {
     "slide_type": "slide"
    }
   },
   "outputs": [
    {
     "data": {
      "application/vnd.jupyter.widget-view+json": {
       "model_id": "9be53be244234b2e9918e662b119afca",
       "version_major": 2,
       "version_minor": 0
      },
      "text/plain": [
       "interactive(children=(Text(value='', description='Heroe'), Output()), _dom_classes=('widget-interact',))"
      ]
     },
     "metadata": {},
     "output_type": "display_data"
    }
   ],
   "source": [
    "@interact(Heroe='')\n",
    "\n",
    "def graph_select(Heroe):\n",
    "\n",
    "    selection_relationships = []\n",
    "    \n",
    "    for couple in total_relationships:\n",
    "        for name in couple:\n",
    "            if name ==  Heroe:\n",
    "                selection_relationships.append(couple)\n",
    "                    \n",
    "    G=nx.Graph(notebook = True)\n",
    "    G.add_edges_from(selection_relationships[:50])\n",
    "    nx.draw(G, with_labels=True, node_color='r', node_size = 800, edge_color='r')"
   ]
  },
  {
   "cell_type": "markdown",
   "metadata": {},
   "source": [
    "Y con este las relaciones entre los superheroes"
   ]
  },
  {
   "cell_type": "code",
   "execution_count": 35,
   "metadata": {
    "ExecuteTime": {
     "end_time": "2020-03-14T10:25:00.605146Z",
     "start_time": "2020-03-14T10:25:00.596369Z"
    }
   },
   "outputs": [],
   "source": [
    "G=nx.Graph(notebook = True)"
   ]
  },
  {
   "cell_type": "code",
   "execution_count": 36,
   "metadata": {
    "ExecuteTime": {
     "end_time": "2020-03-14T10:25:07.372636Z",
     "start_time": "2020-03-14T10:25:07.361253Z"
    }
   },
   "outputs": [],
   "source": [
    "G.add_edges_from(total_relationships[:1500])"
   ]
  },
  {
   "cell_type": "code",
   "execution_count": 37,
   "metadata": {
    "ExecuteTime": {
     "end_time": "2020-03-14T10:25:14.872475Z",
     "start_time": "2020-03-14T10:25:14.141219Z"
    },
    "slideshow": {
     "slide_type": "slide"
    }
   },
   "outputs": [
    {
     "data": {
      "image/png": "[encoded data removed]",
      "text/plain": [
       "<Figure size 1080x720 with 1 Axes>"
      ]
     },
     "metadata": {},
     "output_type": "display_data"
    }
   ],
   "source": [
    "nx.draw(G, with_labels=True, node_color=\"r\", node_size=1000, edge_color = \"r\")"
   ]
  },
  {
   "cell_type": "code",
   "execution_count": null,
   "metadata": {},
   "outputs": [],
   "source": []
  }
 ],
 "metadata": {
  "kernelspec": {
   "display_name": "Python 3",
   "language": "python",
   "name": "python3"
  },
  "language_info": {
   "codemirror_mode": {
    "name": "ipython",
    "version": 3
   },
   "file_extension": ".py",
   "mimetype": "text/x-python",
   "name": "python",
   "nbconvert_exporter": "python",
   "pygments_lexer": "ipython3",
   "version": "3.7.4"
  },
  "toc": {
   "base_numbering": 1,
   "nav_menu": {},
   "number_sections": true,
   "sideBar": true,
   "skip_h1_title": false,
   "title_cell": "Table of Contents",
   "title_sidebar": "Contents",
   "toc_cell": false,
   "toc_position": {},
   "toc_section_display": true,
   "toc_window_display": false
  },
  "varInspector": {
   "cols": {
    "lenName": 16,
    "lenType": 16,
    "lenVar": 40
   },
   "kernels_config": {
    "python": {
     "delete_cmd_postfix": "",
     "delete_cmd_prefix": "del ",
     "library": "var_list.py",
     "varRefreshCmd": "print(var_dic_list())"
    },
    "r": {
     "delete_cmd_postfix": ") ",
     "delete_cmd_prefix": "rm(",
     "library": "var_list.r",
     "varRefreshCmd": "cat(var_dic_list()) "
    }
   },
   "types_to_exclude": [
    "module",
    "function",
    "builtin_function_or_method",
    "instance",
    "_Feature"
   ],
   "window_display": false
  }
 },
 "nbformat": 4,
 "nbformat_minor": 2
}
