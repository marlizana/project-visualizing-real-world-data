{
 "cells": [
  {
   "cell_type": "markdown",
   "metadata": {
    "ExecuteTime": {
     "end_time": "2020-03-03T06:20:27.328242Z",
     "start_time": "2020-03-03T06:20:27.305186Z"
    }
   },
   "source": [
    "<img src=\"img/banner.jpg\">"
   ]
  },
  {
   "cell_type": "markdown",
   "metadata": {},
   "source": [
    "# Marvel's Superheroes"
   ]
  },
  {
   "cell_type": "markdown",
   "metadata": {},
   "source": [
    "Mar Lizana\n",
    "<br>\n",
    "Data Analytics PT 2020\n",
    "<br>\n",
    "Ironhack"
   ]
  },
  {
   "cell_type": "markdown",
   "metadata": {},
   "source": [
    "## Introducción"
   ]
  },
  {
   "cell_type": "markdown",
   "metadata": {},
   "source": [
    "### Motivación"
   ]
  },
  {
   "cell_type": "markdown",
   "metadata": {},
   "source": [
    "El principal objetivo de la selección de este dataset es observar los subconjuntos que se forman dentro de los diferentes personajes de Marvel en los cómics.\n",
    "El multiverso Marvel hace referencia a la existencia de varios universos con sus propias características en una misma línea temporal."
   ]
  },
  {
   "cell_type": "markdown",
   "metadata": {},
   "source": [
    "### Dataset"
   ]
  },
  {
   "cell_type": "markdown",
   "metadata": {},
   "source": [
    "## Análisis previo"
   ]
  },
  {
   "cell_type": "code",
   "execution_count": 1,
   "metadata": {
    "ExecuteTime": {
     "end_time": "2020-03-09T06:59:12.935826Z",
     "start_time": "2020-03-09T06:59:01.024564Z"
    }
   },
   "outputs": [],
   "source": [
    "import numpy as np\n",
    "import pandas as pd\n",
    "import random\n",
    "import re\n",
    "\n",
    "#Visualización\n",
    "import matplotlib.pyplot as plt\n",
    "import seaborn as sns\n",
    "import plotly\n",
    "import cufflinks as cf\n",
    "from plotly.offline import download_plotlyjs, init_notebook_mode, plot, iplot\n",
    "\n",
    "#Grafo\n",
    "import networkx as nx \n",
    "import plotly.graph_objects as go\n",
    "import itertools\n",
    "\n",
    "#Interactivo\n",
    "import altair\n",
    "import ipywidgets as widgets\n",
    "from IPython.display import display\n",
    "from ipywidgets import interact, interact_manual\n",
    "\n",
    "#De lista de tuplas a dict\n",
    "from collections import defaultdict"
   ]
  },
  {
   "cell_type": "code",
   "execution_count": 2,
   "metadata": {
    "ExecuteTime": {
     "end_time": "2020-03-09T06:59:13.316797Z",
     "start_time": "2020-03-09T06:59:13.308435Z"
    }
   },
   "outputs": [],
   "source": [
    "plt.rcParams[\"figure.figsize\"] = (15,10)"
   ]
  },
  {
   "cell_type": "markdown",
   "metadata": {},
   "source": [
    "Importamos los diferentes datasets:"
   ]
  },
  {
   "cell_type": "code",
   "execution_count": 3,
   "metadata": {
    "ExecuteTime": {
     "end_time": "2020-03-09T06:59:14.107825Z",
     "start_time": "2020-03-09T06:59:13.777856Z"
    }
   },
   "outputs": [],
   "source": [
    "#Usaremos este dataset para el apartado de análisis estadístico y visualización.\n",
    "character_stats = pd.read_csv(\"marvel-superheroes/charcters_stats.csv\")\n",
    "character_info = pd.read_csv(\"marvel-superheroes/marvel_characters_info.csv\")\n",
    "\n",
    "#Este segundo dataset será contruido para poder elaborar el grafo final.\n",
    "marvel_charanther = pd.read_csv(\"marvel-superheroes/characters.csv\")\n",
    "marvel_comics = pd.read_csv(\"marvel-superheroes/charactersToComics.csv\")\n",
    "comics = pd.read_csv(\"marvel-superheroes/comics.csv\")"
   ]
  },
  {
   "cell_type": "markdown",
   "metadata": {},
   "source": [
    "Los unimos para poder trabajar con toda la información:"
   ]
  },
  {
   "cell_type": "code",
   "execution_count": 4,
   "metadata": {
    "ExecuteTime": {
     "end_time": "2020-03-09T06:59:16.227362Z",
     "start_time": "2020-03-09T06:59:16.057200Z"
    }
   },
   "outputs": [],
   "source": [
    "marvel_stats = pd.merge(character_stats, character_info, on='Name')\n",
    "\n",
    "marvel_graph = pd.merge(marvel_charanther, marvel_comics, on='characterID')\n",
    "marvel_graph = pd.merge(marvel_graph, comics, on = \"comicID\")"
   ]
  },
  {
   "cell_type": "markdown",
   "metadata": {},
   "source": [
    "## Examinar y preparar los datasets"
   ]
  },
  {
   "cell_type": "markdown",
   "metadata": {
    "ExecuteTime": {
     "end_time": "2020-03-09T06:50:48.125269Z",
     "start_time": "2020-03-09T06:50:48.119311Z"
    }
   },
   "source": [
    "### Marvel Stats"
   ]
  },
  {
   "cell_type": "code",
   "execution_count": 8,
   "metadata": {
    "ExecuteTime": {
     "end_time": "2020-03-09T07:00:23.788953Z",
     "start_time": "2020-03-09T07:00:23.711477Z"
    }
   },
   "outputs": [
    {
     "data": {
      "text/html": [
       "<div>\n",
       "<style scoped>\n",
       "    .dataframe tbody tr th:only-of-type {\n",
       "        vertical-align: middle;\n",
       "    }\n",
       "\n",
       "    .dataframe tbody tr th {\n",
       "        vertical-align: top;\n",
       "    }\n",
       "\n",
       "    .dataframe thead th {\n",
       "        text-align: right;\n",
       "    }\n",
       "</style>\n",
       "<table border=\"1\" class=\"dataframe\">\n",
       "  <thead>\n",
       "    <tr style=\"text-align: right;\">\n",
       "      <th></th>\n",
       "      <th>Name</th>\n",
       "      <th>Alignment_x</th>\n",
       "      <th>Intelligence</th>\n",
       "      <th>Strength</th>\n",
       "      <th>Speed</th>\n",
       "      <th>Durability</th>\n",
       "      <th>Power</th>\n",
       "      <th>Combat</th>\n",
       "      <th>Total</th>\n",
       "      <th>ID</th>\n",
       "      <th>Alignment_y</th>\n",
       "      <th>Gender</th>\n",
       "      <th>EyeColor</th>\n",
       "      <th>Race</th>\n",
       "      <th>HairColor</th>\n",
       "      <th>Publisher</th>\n",
       "      <th>SkinColor</th>\n",
       "      <th>Height</th>\n",
       "      <th>Weight</th>\n",
       "    </tr>\n",
       "  </thead>\n",
       "  <tbody>\n",
       "    <tr>\n",
       "      <td>0</td>\n",
       "      <td>A-Bomb</td>\n",
       "      <td>good</td>\n",
       "      <td>38</td>\n",
       "      <td>100</td>\n",
       "      <td>17</td>\n",
       "      <td>80</td>\n",
       "      <td>17</td>\n",
       "      <td>64</td>\n",
       "      <td>316</td>\n",
       "      <td>0</td>\n",
       "      <td>good</td>\n",
       "      <td>Male</td>\n",
       "      <td>yellow</td>\n",
       "      <td>Human</td>\n",
       "      <td>No Hair</td>\n",
       "      <td>Marvel Comics</td>\n",
       "      <td>-</td>\n",
       "      <td>203.0</td>\n",
       "      <td>441.0</td>\n",
       "    </tr>\n",
       "    <tr>\n",
       "      <td>1</td>\n",
       "      <td>Abe Sapien</td>\n",
       "      <td>good</td>\n",
       "      <td>88</td>\n",
       "      <td>14</td>\n",
       "      <td>35</td>\n",
       "      <td>42</td>\n",
       "      <td>35</td>\n",
       "      <td>85</td>\n",
       "      <td>299</td>\n",
       "      <td>1</td>\n",
       "      <td>good</td>\n",
       "      <td>Male</td>\n",
       "      <td>blue</td>\n",
       "      <td>Icthyo Sapien</td>\n",
       "      <td>No Hair</td>\n",
       "      <td>Dark Horse Comics</td>\n",
       "      <td>blue</td>\n",
       "      <td>191.0</td>\n",
       "      <td>65.0</td>\n",
       "    </tr>\n",
       "    <tr>\n",
       "      <td>2</td>\n",
       "      <td>Abin Sur</td>\n",
       "      <td>good</td>\n",
       "      <td>50</td>\n",
       "      <td>90</td>\n",
       "      <td>53</td>\n",
       "      <td>64</td>\n",
       "      <td>84</td>\n",
       "      <td>65</td>\n",
       "      <td>406</td>\n",
       "      <td>2</td>\n",
       "      <td>good</td>\n",
       "      <td>Male</td>\n",
       "      <td>blue</td>\n",
       "      <td>Ungaran</td>\n",
       "      <td>No Hair</td>\n",
       "      <td>DC Comics</td>\n",
       "      <td>red</td>\n",
       "      <td>185.0</td>\n",
       "      <td>90.0</td>\n",
       "    </tr>\n",
       "    <tr>\n",
       "      <td>3</td>\n",
       "      <td>Abomination</td>\n",
       "      <td>bad</td>\n",
       "      <td>63</td>\n",
       "      <td>80</td>\n",
       "      <td>53</td>\n",
       "      <td>90</td>\n",
       "      <td>55</td>\n",
       "      <td>95</td>\n",
       "      <td>436</td>\n",
       "      <td>3</td>\n",
       "      <td>bad</td>\n",
       "      <td>Male</td>\n",
       "      <td>green</td>\n",
       "      <td>Human / Radiation</td>\n",
       "      <td>No Hair</td>\n",
       "      <td>Marvel Comics</td>\n",
       "      <td>-</td>\n",
       "      <td>203.0</td>\n",
       "      <td>441.0</td>\n",
       "    </tr>\n",
       "    <tr>\n",
       "      <td>4</td>\n",
       "      <td>Abraxas</td>\n",
       "      <td>bad</td>\n",
       "      <td>88</td>\n",
       "      <td>100</td>\n",
       "      <td>83</td>\n",
       "      <td>99</td>\n",
       "      <td>100</td>\n",
       "      <td>56</td>\n",
       "      <td>526</td>\n",
       "      <td>4</td>\n",
       "      <td>bad</td>\n",
       "      <td>Male</td>\n",
       "      <td>blue</td>\n",
       "      <td>Cosmic Entity</td>\n",
       "      <td>Black</td>\n",
       "      <td>Marvel Comics</td>\n",
       "      <td>-</td>\n",
       "      <td>-99.0</td>\n",
       "      <td>-99.0</td>\n",
       "    </tr>\n",
       "  </tbody>\n",
       "</table>\n",
       "</div>"
      ],
      "text/plain": [
       "          Name Alignment_x  Intelligence  Strength  Speed  Durability  Power  \\\n",
       "0       A-Bomb        good            38       100     17          80     17   \n",
       "1   Abe Sapien        good            88        14     35          42     35   \n",
       "2     Abin Sur        good            50        90     53          64     84   \n",
       "3  Abomination         bad            63        80     53          90     55   \n",
       "4      Abraxas         bad            88       100     83          99    100   \n",
       "\n",
       "   Combat  Total  ID Alignment_y Gender EyeColor               Race HairColor  \\\n",
       "0      64    316   0        good   Male   yellow              Human   No Hair   \n",
       "1      85    299   1        good   Male     blue      Icthyo Sapien   No Hair   \n",
       "2      65    406   2        good   Male     blue            Ungaran   No Hair   \n",
       "3      95    436   3         bad   Male    green  Human / Radiation   No Hair   \n",
       "4      56    526   4         bad   Male     blue      Cosmic Entity     Black   \n",
       "\n",
       "           Publisher SkinColor  Height  Weight  \n",
       "0      Marvel Comics         -   203.0   441.0  \n",
       "1  Dark Horse Comics      blue   191.0    65.0  \n",
       "2          DC Comics       red   185.0    90.0  \n",
       "3      Marvel Comics         -   203.0   441.0  \n",
       "4      Marvel Comics         -   -99.0   -99.0  "
      ]
     },
     "execution_count": 8,
     "metadata": {},
     "output_type": "execute_result"
    }
   ],
   "source": [
    "marvel_stats.head()"
   ]
  },
  {
   "cell_type": "code",
   "execution_count": 9,
   "metadata": {
    "ExecuteTime": {
     "end_time": "2020-03-09T07:00:25.584750Z",
     "start_time": "2020-03-09T07:00:25.566611Z"
    }
   },
   "outputs": [
    {
     "data": {
      "text/plain": [
       "(600, 19)"
      ]
     },
     "execution_count": 9,
     "metadata": {},
     "output_type": "execute_result"
    }
   ],
   "source": [
    "marvel_stats.shape"
   ]
  },
  {
   "cell_type": "markdown",
   "metadata": {},
   "source": [
    "Con esta información podemos concluir que nuestra base de datos contiene registros de un total de 600 superhéroes."
   ]
  },
  {
   "cell_type": "code",
   "execution_count": 10,
   "metadata": {
    "ExecuteTime": {
     "end_time": "2020-03-09T07:00:31.069837Z",
     "start_time": "2020-03-09T07:00:31.054006Z"
    }
   },
   "outputs": [
    {
     "data": {
      "text/plain": [
       "Name            0\n",
       "Alignment_x     3\n",
       "Intelligence    0\n",
       "Strength        0\n",
       "Speed           0\n",
       "Durability      0\n",
       "Power           0\n",
       "Combat          0\n",
       "Total           0\n",
       "ID              0\n",
       "Alignment_y     0\n",
       "Gender          0\n",
       "EyeColor        0\n",
       "Race            0\n",
       "HairColor       0\n",
       "Publisher       7\n",
       "SkinColor       0\n",
       "Height          0\n",
       "Weight          0\n",
       "dtype: int64"
      ]
     },
     "execution_count": 10,
     "metadata": {},
     "output_type": "execute_result"
    }
   ],
   "source": [
    "marvel_stats.isnull().sum()"
   ]
  },
  {
   "cell_type": "markdown",
   "metadata": {},
   "source": [
    "### Marvel Graph"
   ]
  },
  {
   "cell_type": "code",
   "execution_count": 12,
   "metadata": {
    "ExecuteTime": {
     "end_time": "2020-03-09T07:12:49.178420Z",
     "start_time": "2020-03-09T07:12:49.128877Z"
    }
   },
   "outputs": [
    {
     "data": {
      "text/html": [
       "<div>\n",
       "<style scoped>\n",
       "    .dataframe tbody tr th:only-of-type {\n",
       "        vertical-align: middle;\n",
       "    }\n",
       "\n",
       "    .dataframe tbody tr th {\n",
       "        vertical-align: top;\n",
       "    }\n",
       "\n",
       "    .dataframe thead th {\n",
       "        text-align: right;\n",
       "    }\n",
       "</style>\n",
       "<table border=\"1\" class=\"dataframe\">\n",
       "  <thead>\n",
       "    <tr style=\"text-align: right;\">\n",
       "      <th></th>\n",
       "      <th>characterID</th>\n",
       "      <th>name</th>\n",
       "      <th>comicID</th>\n",
       "      <th>title</th>\n",
       "      <th>issueNumber</th>\n",
       "      <th>description</th>\n",
       "    </tr>\n",
       "  </thead>\n",
       "  <tbody>\n",
       "    <tr>\n",
       "      <td>0</td>\n",
       "      <td>1009220</td>\n",
       "      <td>Captain America</td>\n",
       "      <td>16232</td>\n",
       "      <td>Cap Transport (2005) #12</td>\n",
       "      <td>12.0</td>\n",
       "      <td>NaN</td>\n",
       "    </tr>\n",
       "    <tr>\n",
       "      <td>1</td>\n",
       "      <td>1010740</td>\n",
       "      <td>Winter Soldier</td>\n",
       "      <td>16232</td>\n",
       "      <td>Cap Transport (2005) #12</td>\n",
       "      <td>12.0</td>\n",
       "      <td>NaN</td>\n",
       "    </tr>\n",
       "    <tr>\n",
       "      <td>2</td>\n",
       "      <td>1009220</td>\n",
       "      <td>Captain America</td>\n",
       "      <td>16248</td>\n",
       "      <td>Cap Transport (2005) #9</td>\n",
       "      <td>9.0</td>\n",
       "      <td>NaN</td>\n",
       "    </tr>\n",
       "    <tr>\n",
       "      <td>3</td>\n",
       "      <td>1009471</td>\n",
       "      <td>Nick Fury</td>\n",
       "      <td>16248</td>\n",
       "      <td>Cap Transport (2005) #9</td>\n",
       "      <td>9.0</td>\n",
       "      <td>NaN</td>\n",
       "    </tr>\n",
       "    <tr>\n",
       "      <td>4</td>\n",
       "      <td>1009552</td>\n",
       "      <td>S.H.I.E.L.D.</td>\n",
       "      <td>16248</td>\n",
       "      <td>Cap Transport (2005) #9</td>\n",
       "      <td>9.0</td>\n",
       "      <td>NaN</td>\n",
       "    </tr>\n",
       "  </tbody>\n",
       "</table>\n",
       "</div>"
      ],
      "text/plain": [
       "   characterID             name  comicID                     title  \\\n",
       "0      1009220  Captain America    16232  Cap Transport (2005) #12   \n",
       "1      1010740   Winter Soldier    16232  Cap Transport (2005) #12   \n",
       "2      1009220  Captain America    16248   Cap Transport (2005) #9   \n",
       "3      1009471        Nick Fury    16248   Cap Transport (2005) #9   \n",
       "4      1009552     S.H.I.E.L.D.    16248   Cap Transport (2005) #9   \n",
       "\n",
       "   issueNumber description  \n",
       "0         12.0         NaN  \n",
       "1         12.0         NaN  \n",
       "2          9.0         NaN  \n",
       "3          9.0         NaN  \n",
       "4          9.0         NaN  "
      ]
     },
     "execution_count": 12,
     "metadata": {},
     "output_type": "execute_result"
    }
   ],
   "source": [
    "marvel_graph.head()"
   ]
  },
  {
   "cell_type": "code",
   "execution_count": 13,
   "metadata": {
    "ExecuteTime": {
     "end_time": "2020-03-09T07:12:51.208217Z",
     "start_time": "2020-03-09T07:12:51.193399Z"
    }
   },
   "outputs": [
    {
     "data": {
      "text/plain": [
       "(82185, 6)"
      ]
     },
     "execution_count": 13,
     "metadata": {},
     "output_type": "execute_result"
    }
   ],
   "source": [
    "marvel_graph.shape"
   ]
  },
  {
   "cell_type": "code",
   "execution_count": 14,
   "metadata": {
    "ExecuteTime": {
     "end_time": "2020-03-09T07:12:54.050282Z",
     "start_time": "2020-03-09T07:12:53.915263Z"
    }
   },
   "outputs": [
    {
     "data": {
      "text/plain": [
       "characterID        0\n",
       "name               0\n",
       "comicID            0\n",
       "title              0\n",
       "issueNumber        0\n",
       "description    26479\n",
       "dtype: int64"
      ]
     },
     "execution_count": 14,
     "metadata": {},
     "output_type": "execute_result"
    }
   ],
   "source": [
    "marvel_graph.isnull().sum()"
   ]
  },
  {
   "cell_type": "markdown",
   "metadata": {},
   "source": [
    "Extraer el año de la columna título puede resultar interesante para la posterior visualización."
   ]
  },
  {
   "cell_type": "code",
   "execution_count": 36,
   "metadata": {
    "ExecuteTime": {
     "end_time": "2020-03-09T07:23:49.400296Z",
     "start_time": "2020-03-09T07:23:49.004571Z"
    }
   },
   "outputs": [],
   "source": [
    "years = [\",\".join(re.findall(\"\\d{4}\", i)) for i in marvel_graph['title']]\n",
    "marvel_graph['Year']=years"
   ]
  },
  {
   "cell_type": "code",
   "execution_count": 37,
   "metadata": {
    "ExecuteTime": {
     "end_time": "2020-03-09T07:23:51.839332Z",
     "start_time": "2020-03-09T07:23:51.805400Z"
    }
   },
   "outputs": [
    {
     "data": {
      "text/plain": [
       "             10998\n",
       "1963          8602\n",
       "2010          5397\n",
       "1998          3498\n",
       "1991          2890\n",
       "             ...  \n",
       "1953             1\n",
       "2006,2006        1\n",
       "1602,2015        1\n",
       "2099,1994        1\n",
       "2011,1000        1\n",
       "Name: Year, Length: 92, dtype: int64"
      ]
     },
     "execution_count": 37,
     "metadata": {},
     "output_type": "execute_result"
    }
   ],
   "source": [
    "marvel_graph['Year'].value_counts()"
   ]
  },
  {
   "cell_type": "code",
   "execution_count": null,
   "metadata": {
    "ExecuteTime": {
     "start_time": "2020-03-09T07:27:43.764Z"
    }
   },
   "outputs": [],
   "source": [
    "marvel_graph['Year'].iplot(kind ='hist', bins = 10)"
   ]
  },
  {
   "cell_type": "code",
   "execution_count": 38,
   "metadata": {
    "ExecuteTime": {
     "end_time": "2020-03-09T07:23:55.253720Z",
     "start_time": "2020-03-09T07:23:55.130139Z"
    }
   },
   "outputs": [
    {
     "name": "stdout",
     "output_type": "stream",
     "text": [
      "3000\n",
      "\n"
     ]
    }
   ],
   "source": [
    "print(max(marvel_graph['Year']))\n",
    "print(min(marvel_graph['Year']))"
   ]
  },
  {
   "cell_type": "markdown",
   "metadata": {},
   "source": [
    "Hay años futuros... y años previos a la creación de los comics..."
   ]
  },
  {
   "cell_type": "code",
   "execution_count": 39,
   "metadata": {
    "ExecuteTime": {
     "end_time": "2020-03-09T07:23:57.851880Z",
     "start_time": "2020-03-09T07:23:57.821308Z"
    }
   },
   "outputs": [
    {
     "data": {
      "text/plain": [
       "63717    Guardians of The Galaxy Classic: In The Year 3...\n",
       "63718    Guardians of The Galaxy Classic: In The Year 3...\n",
       "63719    Guardians of The Galaxy Classic: In The Year 3...\n",
       "63720    Guardians of The Galaxy Classic: In The Year 3...\n",
       "63721    Guardians of The Galaxy Classic: In The Year 3...\n",
       "63722    Guardians of The Galaxy Classic: In The Year 3...\n",
       "63723    Guardians of The Galaxy Classic: In The Year 3...\n",
       "63724    Guardians of The Galaxy Classic: In The Year 3...\n",
       "63725    Guardians of The Galaxy Classic: In The Year 3...\n",
       "63726    Guardians of The Galaxy Classic: In The Year 3...\n",
       "63727    Guardians of The Galaxy Classic: In The Year 3...\n",
       "63728    Guardians of The Galaxy Classic: In The Year 3...\n",
       "63729    Guardians of The Galaxy Classic: In The Year 3...\n",
       "63730    Guardians of The Galaxy Classic: In The Year 3...\n",
       "63731    Guardians of The Galaxy Classic: In The Year 3...\n",
       "63732    Guardians of The Galaxy Classic: In The Year 3...\n",
       "74582    Guardians 3000 Vol. 1: Time After Time (Trade ...\n",
       "74583    Guardians 3000 Vol. 1: Time After Time (Trade ...\n",
       "Name: title, dtype: object"
      ]
     },
     "execution_count": 39,
     "metadata": {},
     "output_type": "execute_result"
    }
   ],
   "source": [
    "marvel_graph[marvel_graph['Year'] == max(marvel_graph['Year'])]['title']"
   ]
  },
  {
   "cell_type": "markdown",
   "metadata": {},
   "source": [
    "## Análisis estadístico y visualización"
   ]
  },
  {
   "cell_type": "markdown",
   "metadata": {},
   "source": [
    "Haremos una primera visualización de la información con un gráfico interactivo de correlación entre habilidades de superhéroes:"
   ]
  },
  {
   "cell_type": "code",
   "execution_count": null,
   "metadata": {
    "ExecuteTime": {
     "end_time": "2020-03-09T05:48:52.056808Z",
     "start_time": "2020-03-09T05:48:48.519842Z"
    }
   },
   "outputs": [],
   "source": [
    "def make_plot(x, y): \n",
    "    sns.jointplot(x=x,y=y, data=marvel_stats,kind=\"kde\", color = \"r\")\n",
    "marvel_num_col=['Intelligence','Strength','Speed','Durability','Power','Combat',\n",
    "               'Total','Height','Weight']\n",
    "_= interact(make_plot, x = marvel_num_col, y = marvel_num_col)"
   ]
  },
  {
   "cell_type": "code",
   "execution_count": null,
   "metadata": {
    "ExecuteTime": {
     "end_time": "2020-03-09T06:03:58.751170Z",
     "start_time": "2020-03-09T06:03:58.415417Z"
    }
   },
   "outputs": [],
   "source": [
    "marvel_stats.columns"
   ]
  },
  {
   "cell_type": "code",
   "execution_count": null,
   "metadata": {
    "ExecuteTime": {
     "end_time": "2020-03-09T06:55:45.236539Z",
     "start_time": "2020-03-09T06:52:23.280987Z"
    }
   },
   "outputs": [],
   "source": [
    "@interact(Gender=list(marvel_stats['Gender'].unique()), \n",
    "          Alignment_x=list(marvel_stats['Alignment_x'].unique()),\n",
    "          Alignment_y=list(marvel_stats['Alignment_y'].unique()), \n",
    "         )\n",
    "\n",
    "def scatter(Gender, Alignment_x, Alignment_y):\n",
    "    data = marvel_stats[(marvel_stats['Gender']==Gender) & \n",
    "              (marvel_stats['Alignment_x']==Alignment_x) & \n",
    "              (marvel_stats['Alignment_y']==Alignment_y)] \n",
    "                        \n",
    "    data.iplot(kind='scatter', x='Power', y='Speed', \n",
    "           categories='Gender', text='Name', \n",
    "           xTitle='Tenure', yTitle='Monthly Charges',\n",
    "           title='Charges vs. Tenure')"
   ]
  },
  {
   "cell_type": "markdown",
   "metadata": {},
   "source": [
    "## Grafo"
   ]
  },
  {
   "cell_type": "markdown",
   "metadata": {
    "ExecuteTime": {
     "end_time": "2020-03-07T11:50:36.500335Z",
     "start_time": "2020-03-07T11:50:36.489137Z"
    }
   },
   "source": [
    "### Observación"
   ]
  },
  {
   "cell_type": "markdown",
   "metadata": {},
   "source": [
    "Hacemos una primera observación de como queda el dataset con el que trabajaremos."
   ]
  },
  {
   "cell_type": "code",
   "execution_count": null,
   "metadata": {},
   "outputs": [],
   "source": [
    "marvel_graph.head()"
   ]
  },
  {
   "cell_type": "code",
   "execution_count": null,
   "metadata": {
    "ExecuteTime": {
     "end_time": "2020-03-08T18:13:38.965603Z",
     "start_time": "2020-03-08T18:13:38.933940Z"
    }
   },
   "outputs": [],
   "source": [
    "marvel_graph['name'].value_counts()"
   ]
  },
  {
   "cell_type": "markdown",
   "metadata": {},
   "source": [
    "Gracias a las función <CODE>pivot_table</CODE> podemos empezar a hacernos una idea real de los personajes que puede haber por comic."
   ]
  },
  {
   "cell_type": "code",
   "execution_count": null,
   "metadata": {
    "ExecuteTime": {
     "end_time": "2020-03-08T18:13:40.556528Z",
     "start_time": "2020-03-08T18:13:40.393316Z"
    }
   },
   "outputs": [],
   "source": [
    "comicID_name=pd.DataFrame(marvel_graph.pivot_table(index = [\"comicID\", \"name\"]))\n",
    "#Hago un head para evitaros el scrolldown...pero creedme que se ve.\n",
    "comicID_name.head()"
   ]
  },
  {
   "cell_type": "markdown",
   "metadata": {
    "ExecuteTime": {
     "end_time": "2020-03-07T11:52:11.525912Z",
     "start_time": "2020-03-07T11:52:11.521639Z"
    }
   },
   "source": [
    "### Obtención de la estructura de datos necesarea."
   ]
  },
  {
   "cell_type": "markdown",
   "metadata": {},
   "source": [
    "Y ahora es cuando empieza lo divertido:\n",
    "1. Creamos tuplas con la relación <CODE>'comicID'</CODE>, <CODE>'name'</CODE>.\n",
    "2. Con estas tuplas y la función <CODE>setdefault</CODE> pasada a los elementos de la lista de tuplas conseguimos un diccionario donde las llaves son los <CODE>'comicID'</CODE> y los valores los distintos <CODE>'name'</CODE> relacionados.\n",
    "3. Aplicaremos la función <CODE>combinations</CODE> para obtener todas las permutaciones que hay dentro de cada comic."
   ]
  },
  {
   "cell_type": "code",
   "execution_count": null,
   "metadata": {
    "ExecuteTime": {
     "end_time": "2020-03-08T18:13:57.998418Z",
     "start_time": "2020-03-08T18:13:55.232554Z"
    }
   },
   "outputs": [],
   "source": [
    "#Con esto obtenemos la lista de tuplas\n",
    "lst = []\n",
    "for i in range(0, len(marvel_graph[\"comicID\"])):\n",
    "    d = (marvel_graph[\"comicID\"][i],marvel_graph[\"name\"][i])\n",
    "    lst.append(d)"
   ]
  },
  {
   "cell_type": "code",
   "execution_count": null,
   "metadata": {
    "ExecuteTime": {
     "end_time": "2020-03-08T18:13:58.849614Z",
     "start_time": "2020-03-08T18:13:58.783793Z"
    }
   },
   "outputs": [],
   "source": [
    "#Pasamos a diccionario\n",
    "d = {}\n",
    "for k, v in lst:\n",
    "    d.setdefault(k, []).append(v)"
   ]
  },
  {
   "cell_type": "code",
   "execution_count": null,
   "metadata": {
    "ExecuteTime": {
     "end_time": "2020-03-08T18:14:07.696214Z",
     "start_time": "2020-03-08T18:14:07.691127Z"
    }
   },
   "outputs": [],
   "source": [
    "#Nos quedamos solo con los valores del diccionario porque no nos interesa que aparezcan las llaves.\n",
    "comic_persons = d.values()"
   ]
  },
  {
   "cell_type": "code",
   "execution_count": null,
   "metadata": {
    "ExecuteTime": {
     "end_time": "2020-03-08T18:14:12.204935Z",
     "start_time": "2020-03-08T18:14:11.757173Z"
    }
   },
   "outputs": [],
   "source": [
    "#Creamos las permutaciones\n",
    "lst = []\n",
    "for i in comic_persons:\n",
    "    lst.append(list(itertools.combinations(i, 2)))"
   ]
  },
  {
   "cell_type": "code",
   "execution_count": null,
   "metadata": {
    "ExecuteTime": {
     "end_time": "2020-03-08T18:14:25.732054Z",
     "start_time": "2020-03-08T18:14:25.636158Z"
    }
   },
   "outputs": [],
   "source": [
    "#Por último sacamos las tuplas de las listas para obtener solo una lista de tuplas y no una lista\n",
    "#de listas de tuplas.\n",
    "total_relationships=[]\n",
    "for i in lst:\n",
    "    for e in i:\n",
    "        total_relationships.append(e)"
   ]
  },
  {
   "cell_type": "markdown",
   "metadata": {},
   "source": [
    "### Generando el grafo"
   ]
  },
  {
   "cell_type": "code",
   "execution_count": null,
   "metadata": {
    "ExecuteTime": {
     "end_time": "2020-03-08T18:14:28.797954Z",
     "start_time": "2020-03-08T18:14:28.770342Z"
    }
   },
   "outputs": [],
   "source": [
    "#Añadimos un slider para limitar la visualización y que el ordenador pueda...\n",
    "slider = widgets.IntSlider(\n",
    "    min=20,\n",
    "    max=len(total_relationships)/2,\n",
    "    step=100,\n",
    "    description='Tamaño muestra:')\n",
    "display(slider)"
   ]
  },
  {
   "cell_type": "code",
   "execution_count": null,
   "metadata": {
    "ExecuteTime": {
     "end_time": "2020-03-09T05:44:16.905856Z",
     "start_time": "2020-03-09T05:44:16.758674Z"
    }
   },
   "outputs": [],
   "source": [
    "slider = widgets.IntSlider(\n",
    "    min=min(marvel_graph['Year']),\n",
    "    max=max(marvel_graph['Year']),\n",
    "    step=100,\n",
    "    description='Año:')\n",
    "display(slider)"
   ]
  },
  {
   "cell_type": "code",
   "execution_count": null,
   "metadata": {
    "ExecuteTime": {
     "end_time": "2020-03-08T18:22:33.457402Z",
     "start_time": "2020-03-08T18:22:33.443710Z"
    }
   },
   "outputs": [],
   "source": [
    "G=nx.Graph()"
   ]
  },
  {
   "cell_type": "code",
   "execution_count": null,
   "metadata": {
    "ExecuteTime": {
     "end_time": "2020-03-08T18:22:36.377647Z",
     "start_time": "2020-03-08T18:22:36.368053Z"
    }
   },
   "outputs": [],
   "source": [
    "d = random.sample(total_relationships, slider.value)"
   ]
  },
  {
   "cell_type": "code",
   "execution_count": null,
   "metadata": {
    "ExecuteTime": {
     "end_time": "2020-03-08T18:22:40.578502Z",
     "start_time": "2020-03-08T18:22:39.925341Z"
    }
   },
   "outputs": [],
   "source": [
    "G.add_edges_from(total_relationships[:-500])"
   ]
  },
  {
   "cell_type": "code",
   "execution_count": null,
   "metadata": {
    "ExecuteTime": {
     "end_time": "2020-03-08T18:23:01.903699Z",
     "start_time": "2020-03-08T18:22:43.414072Z"
    }
   },
   "outputs": [],
   "source": [
    "nx.draw(G, with_labels=True)"
   ]
  },
  {
   "cell_type": "code",
   "execution_count": null,
   "metadata": {},
   "outputs": [],
   "source": []
  }
 ],
 "metadata": {
  "kernelspec": {
   "display_name": "Python 3",
   "language": "python",
   "name": "python3"
  },
  "language_info": {
   "codemirror_mode": {
    "name": "ipython",
    "version": 3
   },
   "file_extension": ".py",
   "mimetype": "text/x-python",
   "name": "python",
   "nbconvert_exporter": "python",
   "pygments_lexer": "ipython3",
   "version": "3.7.4"
  },
  "toc": {
   "base_numbering": 1,
   "nav_menu": {},
   "number_sections": true,
   "sideBar": true,
   "skip_h1_title": false,
   "title_cell": "Table of Contents",
   "title_sidebar": "Contents",
   "toc_cell": false,
   "toc_position": {},
   "toc_section_display": true,
   "toc_window_display": false
  },
  "varInspector": {
   "cols": {
    "lenName": 16,
    "lenType": 16,
    "lenVar": 40
   },
   "kernels_config": {
    "python": {
     "delete_cmd_postfix": "",
     "delete_cmd_prefix": "del ",
     "library": "var_list.py",
     "varRefreshCmd": "print(var_dic_list())"
    },
    "r": {
     "delete_cmd_postfix": ") ",
     "delete_cmd_prefix": "rm(",
     "library": "var_list.r",
     "varRefreshCmd": "cat(var_dic_list()) "
    }
   },
   "types_to_exclude": [
    "module",
    "function",
    "builtin_function_or_method",
    "instance",
    "_Feature"
   ],
   "window_display": false
  }
 },
 "nbformat": 4,
 "nbformat_minor": 2
}
